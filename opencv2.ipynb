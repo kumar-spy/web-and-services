{
 "cells": [
  {
   "cell_type": "code",
   "execution_count": 51,
   "metadata": {},
   "outputs": [],
   "source": [
    "import numpy as np\n",
    "import cv2\n",
    "\n",
    "def main():\n",
    "    img1=np.zeros((512,512,3),np.uint8)\n",
    "    cv2.line(img1,(0,99),(99,0),(255,0,0),2)\n",
    "    cv2.rectangle(img1,(100,60),(200,170),(0,255,0),2)\n",
    "    \n",
    "    points=np.array([[80,2],[125,0],[175,0],[230,5],[30,50]],np.int32)\n",
    "#     points=points.reshape((-1,2,2))\n",
    "    cv2.polylines(img1,[points],True,(0,255,255))\n",
    "    text1=\"Test Text\"\n",
    "    cv2.putText(img1,text1,(100,100),cv2.FONT_HERSHEY_SIMPLEX,2,(255,255,0))\n",
    "    cv2.imshow('lema',img1)\n",
    "    cv2.waitKey(0)\n",
    "    cv2.destroyWindow('lema')\n",
    "\n",
    "if __name__==\"__main__\":\n",
    "    main()"
   ]
  }
 ],
 "metadata": {
  "kernelspec": {
   "display_name": "Python 3",
   "language": "python",
   "name": "python3"
  },
  "language_info": {
   "codemirror_mode": {
    "name": "ipython",
    "version": 3
   },
   "file_extension": ".py",
   "mimetype": "text/x-python",
   "name": "python",
   "nbconvert_exporter": "python",
   "pygments_lexer": "ipython3",
   "version": "3.6.3"
  }
 },
 "nbformat": 4,
 "nbformat_minor": 2
}
